{
 "cells": [
  {
   "cell_type": "markdown",
   "id": "9f42c2db",
   "metadata": {},
   "source": [
    "# Data Science Tools and Ecosystem"
   ]
  },
  {
   "cell_type": "markdown",
   "id": "a318c5f6",
   "metadata": {},
   "source": [
    "## In this notebook, Data Science Tools and Ecosystem are summarized."
   ]
  },
  {
   "cell_type": "markdown",
   "id": "5ab6d890",
   "metadata": {},
   "source": [
    "## Objectives:\n",
    "- Some of the popular languages that Data Scientists use\n",
    "- Some of the commonly used libraries used by Data Scientists\n",
    "- Data Science Tools\n",
    "- Arithmetic expression to mutiply then add integers"
   ]
  },
  {
   "cell_type": "markdown",
   "id": "65a5b05e",
   "metadata": {},
   "source": [
    "### Some of the popular languages that Data Scientists use are:"
   ]
  },
  {
   "cell_type": "markdown",
   "id": "589b2130",
   "metadata": {},
   "source": [
    "|Order | Language |\n",
    "| ------ | ------ |\n",
    "| 1 | Python |\n",
    "|2 | R |\n",
    "| 3 | SQL |"
   ]
  },
  {
   "cell_type": "markdown",
   "id": "4ab53720",
   "metadata": {},
   "source": [
    "### Some of the commonly used libraries used by Data Scientists include:"
   ]
  },
  {
   "cell_type": "markdown",
   "id": "9222857e",
   "metadata": {},
   "source": [
    "|Order | Library |\n",
    "| ------ | ------ |\n",
    "| 1 | Scientific Computing |\n",
    "|2 | Visualization |\n",
    "| 3 | Deep Learning |"
   ]
  },
  {
   "cell_type": "markdown",
   "id": "0db87f64",
   "metadata": {},
   "source": [
    "### Data Science Tools:"
   ]
  },
  {
   "cell_type": "markdown",
   "id": "4c10bad4",
   "metadata": {},
   "source": [
    "|Order | Tool |\n",
    "| ------ | ------ |\n",
    "| 1 | Jupiter Notebook |\n",
    "|2 | RStudio |\n",
    "| 3 | Excel |"
   ]
  },
  {
   "cell_type": "markdown",
   "id": "507ed7a9",
   "metadata": {},
   "source": [
    "### Below are a few examples of evaluating arithmetic expressions in Python:"
   ]
  },
  {
   "cell_type": "code",
   "execution_count": 22,
   "id": "a266733f",
   "metadata": {},
   "outputs": [
    {
     "name": "stdout",
     "output_type": "stream",
     "text": [
      "17\n"
     ]
    }
   ],
   "source": [
    "a = 3\n",
    "b = 4\n",
    "c = 5\n",
    "y = (a * b) + c\n",
    "print(y)\n",
    "\n",
    "# This a simple arithmetic expression to mutiply then add integers"
   ]
  },
  {
   "cell_type": "code",
   "execution_count": 23,
   "id": "ad982cf3",
   "metadata": {},
   "outputs": [
    {
     "name": "stdout",
     "output_type": "stream",
     "text": [
      "3.3333333333333335\n"
     ]
    }
   ],
   "source": [
    "m = 200\n",
    "h = m / 60\n",
    "print(h)\n",
    "\n",
    "# This will convert 200 minutes to hours by diving by 60"
   ]
  },
  {
   "cell_type": "markdown",
   "id": "442e37a7",
   "metadata": {},
   "source": [
    "## Author:\n",
    "Aliakbar Ebrahimi"
   ]
  },
  {
   "cell_type": "code",
   "execution_count": null,
   "id": "dd59e548",
   "metadata": {},
   "outputs": [],
   "source": []
  }
 ],
 "metadata": {
  "kernelspec": {
   "display_name": "Python 3 (ipykernel)",
   "language": "python",
   "name": "python3"
  },
  "language_info": {
   "codemirror_mode": {
    "name": "ipython",
    "version": 3
   },
   "file_extension": ".py",
   "mimetype": "text/x-python",
   "name": "python",
   "nbconvert_exporter": "python",
   "pygments_lexer": "ipython3",
   "version": "3.9.12"
  }
 },
 "nbformat": 4,
 "nbformat_minor": 5
}
